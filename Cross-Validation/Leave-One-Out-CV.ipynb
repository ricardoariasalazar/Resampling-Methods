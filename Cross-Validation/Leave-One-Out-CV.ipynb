{
 "cells": [
  {
   "cell_type": "markdown",
   "metadata": {},
   "source": [
    "## Leave-One-Out Cross-Validation"
   ]
  },
  {
   "cell_type": "markdown",
   "metadata": {},
   "source": [
    "Using a `KNN-Regressor` to train the model and then predict the values of the test dataset we use the LOOCV method to reduce the uncertainty and find out which is the optimal hyperparameter K for the predcition \n",
    "\n",
    "#### KNN Regresson Function "
   ]
  },
  {
   "cell_type": "code",
   "execution_count": 1,
   "metadata": {},
   "outputs": [],
   "source": [
    "# KNN regressor function\n",
    "knn.reg <- function(train.data, train.label, test.data, K=3, distance = 'manhattan'){\n",
    "    # Convert the data to dataframe\n",
    "    if(!is.data.frame(train.data)){ # If train.data is not a dataframe\n",
    "        train.data = data.frame(train.data) # Build a dataframe with a vector \n",
    "        names(train.data)  <- c('n') # Change the name of the unique column to match with test \n",
    "    }\n",
    "    if(!is.data.frame(test.data)){ # If test.data is not a dataframe\n",
    "        test.data = data.frame(test.data) # Build a dataframe with a vector \n",
    "        names(test.data)  <- c('n') # Change the name of the unique column to match with test \n",
    "    }\n",
    "    \n",
    "    # Get the number of rows of each dataframe\n",
    "    train.len <- nrow(train.data)\n",
    "    test.len <- nrow(test.data)\n",
    "    \n",
    "    # Creating the returning variable\n",
    "    test.label <- c()\n",
    "    \n",
    "    # Calculate distances between samples and get the important part of the matrix\n",
    "    dist <- as.matrix(dist(rbind(test.data, train.data), method = distance))[1:test.len, (test.len+1):(test.len+train.len)]\n",
    "\n",
    "    ## for each test sample\n",
    "    for (i in 1:test.len){\n",
    "\n",
    "        # Find its K nearest neighbours from training samples. As the testing data is just one, dist is a vector\n",
    "        nn <- as.data.frame(sort(dist, index.return = TRUE))[1:K,2]\n",
    "        \n",
    "        ### And calculate the predicted labels with the mean\n",
    "        test.label[i]<- mean(train.label[nn])        \n",
    "    }\n",
    "    \n",
    "    ## return the class labels as output\n",
    "    return (test.label)\n",
    "}"
   ]
  },
  {
   "cell_type": "markdown",
   "metadata": {},
   "source": [
    "#### Import Datasets\n",
    "As we are going to do cross-validation, we assume that we do not have test data"
   ]
  },
  {
   "cell_type": "code",
   "execution_count": 2,
   "metadata": {},
   "outputs": [],
   "source": [
    "train.data <- read.csv(file = \"data/train.csv\")[,1] # First Column \n",
    "train.label <- read.csv(file = \"data/train.csv\")[,2] # Second Column"
   ]
  },
  {
   "cell_type": "markdown",
   "metadata": {},
   "source": [
    "A special case of L-Fold cross-validation is Leave-One-Out cross-validation where L (i.e., the number of folds/subsets) is equal to the size of the training dataset. In each iteration, one training data point is used as the validation set.\n",
    "Here we implement a function:\n",
    "\n",
    "    cv(train.data, train.label, K)\n",
    "\n",
    "which takes the training data and their labels (continuous values), K value (the number of neighbors), the number of folds, and returns errors for different folds of the training data."
   ]
  },
  {
   "cell_type": "code",
   "execution_count": 3,
   "metadata": {},
   "outputs": [],
   "source": [
    "cv <- function(train.data, train.label, K=3){\n",
    "    \n",
    "    # Identifying the size of the vector of training\n",
    "    train.len <- length(train.data)\n",
    "    \n",
    "    # Creating the returning variable\n",
    "    test.label <- c()\n",
    "    \n",
    "    # Getting the indexes for the L-Fold cross validation\n",
    "    lfold_idx <- matrix(sample(x=train.len, size=train.len, replace = FALSE))\n",
    "    \n",
    "    # \n",
    "    error <- data.frame('L'=1:train.len, 'MSE_train'=rep(0,train.len))\n",
    "    \n",
    "    for (i in lfold_idx){\n",
    "        error[i,'MSE_train'] <- (knn.reg(train.data[-i], train.label[-i], train.data[i], K=K) - train.label[i])^2 # Store the MSE of each fold\n",
    "    }\n",
    "    \n",
    "    # Return the mean of all square errors of each fold\n",
    "    return(mean(error$MSE_train))\n",
    "}"
   ]
  },
  {
   "cell_type": "markdown",
   "metadata": {},
   "source": [
    "### Run Function"
   ]
  },
  {
   "cell_type": "markdown",
   "metadata": {},
   "source": [
    "Using the training data, we run the Leave-One-Out CV Algorithm, and change the value of K between 1 and 20 in the KNN regressor function, and for each K compute the average error values for each fold."
   ]
  },
  {
   "cell_type": "code",
   "execution_count": 4,
   "metadata": {
    "scrolled": true
   },
   "outputs": [],
   "source": [
    "# calculate the train and test missclassification rates for K in 1:20\n",
    "miss <- data.frame('K'=1:20, 'MSE_train'=rep(0,20))\n",
    "for (k in 1:20){\n",
    "    miss[k,'MSE_train'] <- cv(train.data, train.label, K=k) # Store the MSE of trainning data\n",
    "}"
   ]
  },
  {
   "cell_type": "markdown",
   "metadata": {},
   "source": [
    "Finally, we plot the average of error values versus 1/K for K=1,..,20 in your KNN regressor. "
   ]
  },
  {
   "cell_type": "code",
   "execution_count": 5,
   "metadata": {
    "scrolled": true
   },
   "outputs": [
    {
     "name": "stderr",
     "output_type": "stream",
     "text": [
      "Warning message:\n",
      "\"package 'ggplot2' was built under R version 3.6.3\"Warning message:\n",
      "\"Use of `miss$MSE_train` is discouraged. Use `MSE_train` instead.\"Warning message:\n",
      "\"Use of `miss$MSE_train` is discouraged. Use `MSE_train` instead.\"Warning message:\n",
      "\"Use of `miss$MSE_train` is discouraged. Use `MSE_train` instead.\""
     ]
    },
    {
     "data": {
      "image/png": "[encoded data removed]",
      "text/plain": [
       "plot without title"
      ]
     },
     "metadata": {},
     "output_type": "display_data"
    }
   ],
   "source": [
    "library(ggplot2)\n",
    "ggplot(data=miss, aes(x=1/K, y=MSE_train)) + geom_line() +\n",
    "       scale_color_discrete(guide = guide_legend(title = NULL)) + theme_minimal() +\n",
    "       ggtitle(\"Missclassification Error\") + geom_point(aes(x=1/which.min(miss$MSE_train),y=miss$MSE_train[which.min(miss$MSE_train)], color='red'))"
   ]
  },
  {
   "cell_type": "code",
   "execution_count": 7,
   "metadata": {},
   "outputs": [
    {
     "name": "stdout",
     "output_type": "stream",
     "text": [
      "The K that returns the smallest MSE is 2"
     ]
    }
   ],
   "source": [
    "cat(\"The K that returns the smallest MSE is\",which.min(miss$MSE))"
   ]
  },
  {
   "cell_type": "markdown",
   "metadata": {},
   "source": [
    "The MSE value is almost the same for K between 2 and 4 as it can be seen in the following table:"
   ]
  },
  {
   "cell_type": "code",
   "execution_count": 11,
   "metadata": {},
   "outputs": [
    {
     "data": {
      "text/html": [
       "<table>\n",
       "<thead><tr><th></th><th scope=col>K</th><th scope=col>MSE_train</th></tr></thead>\n",
       "<tbody>\n",
       "\t<tr><th scope=row>2</th><td>2        </td><td>0.2755512</td></tr>\n",
       "\t<tr><th scope=row>3</th><td>3        </td><td>0.2921116</td></tr>\n",
       "\t<tr><th scope=row>4</th><td>4        </td><td>0.2986848</td></tr>\n",
       "</tbody>\n",
       "</table>\n"
      ],
      "text/latex": [
       "\\begin{tabular}{r|ll}\n",
       "  & K & MSE\\_train\\\\\n",
       "\\hline\n",
       "\t2 & 2         & 0.2755512\\\\\n",
       "\t3 & 3         & 0.2921116\\\\\n",
       "\t4 & 4         & 0.2986848\\\\\n",
       "\\end{tabular}\n"
      ],
      "text/markdown": [
       "\n",
       "| <!--/--> | K | MSE_train |\n",
       "|---|---|---|\n",
       "| 2 | 2         | 0.2755512 |\n",
       "| 3 | 3         | 0.2921116 |\n",
       "| 4 | 4         | 0.2986848 |\n",
       "\n"
      ],
      "text/plain": [
       "  K MSE_train\n",
       "2 2 0.2755512\n",
       "3 3 0.2921116\n",
       "4 4 0.2986848"
      ]
     },
     "metadata": {},
     "output_type": "display_data"
    }
   ],
   "source": [
    "miss[miss$K > 1 & miss$K < 5,]"
   ]
  },
  {
   "cell_type": "markdown",
   "metadata": {},
   "source": [
    "And that is why we can se an almost flat line between these two values. Even though the optimum value is `K = 2`, because is the one that returns the lowest value of MSE as it can be seen in the plot. Therefore, the model with the best performance.\n",
    "\n",
    "By looking at the graph we can identify the underfitting and overfitting region. When we use a K too big ($\\frac{1}{k} \\approx 0$), the MSE is too big and it starts to decrease whit the number of K, then we could says that with a too big K the model is underfitted. On the other hand, with a K smaller than 2 the MSE is not that big as it is with high K, but is starts to increase compared with the MSE of K=2, that is why that we say that the model is over fitted when K is smaller than 2."
   ]
  }
 ],
 "metadata": {
  "kernelspec": {
   "display_name": "R",
   "language": "R",
   "name": "ir"
  },
  "language_info": {
   "codemirror_mode": "r",
   "file_extension": ".r",
   "mimetype": "text/x-r-source",
   "name": "R",
   "pygments_lexer": "r",
   "version": "3.6.1"
  }
 },
 "nbformat": 4,
 "nbformat_minor": 4
}
